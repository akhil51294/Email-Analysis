{
 "cells": [
  {
   "cell_type": "code",
   "execution_count": 1,
   "metadata": {
    "_cell_guid": "b1076dfc-b9ad-4769-8c92-a6c4dae69d19",
    "_uuid": "8f2839f25d086af736a60e9eeb907d3b93b6e0e5"
   },
   "outputs": [],
   "source": [
    "# basic level analysis for the email using site https://query.data.world/s/o3a54tz46d55ywn32d6wcgtgomlfnx\n",
    "import numpy as np # linear algebra\n",
    "import pandas as pd # data processing, CSV file I/O (e.g. pd.read_csv)\n",
    "\n",
    "import os\n",
    "for dirname, _, filenames in os.walk('/kaggle/input'):\n",
    "    for filename in filenames:\n",
    "        print(os.path.join(dirname, filename))\n",
    "\n",
    "# You can write up to 5GB to the current directory (/kaggle/working/) that gets preserved as output when you create a version using \"Save & Run All\" \n",
    "# You can also write temporary files to /kaggle/temp/, but they won't be saved outside of the current session"
   ]
  },
  {
   "cell_type": "code",
   "execution_count": 2,
   "metadata": {},
   "outputs": [
    {
     "name": "stderr",
     "output_type": "stream",
     "text": [
      "/opt/anaconda3/lib/python3.8/site-packages/IPython/core/interactiveshell.py:3146: DtypeWarning: Columns (9) have mixed types.Specify dtype option on import or set low_memory=False.\n",
      "  has_raised = await self.run_ast_nodes(code_ast.body, cell_name,\n"
     ]
    },
    {
     "data": {
      "text/html": [
       "<div>\n",
       "<style scoped>\n",
       "    .dataframe tbody tr th:only-of-type {\n",
       "        vertical-align: middle;\n",
       "    }\n",
       "\n",
       "    .dataframe tbody tr th {\n",
       "        vertical-align: top;\n",
       "    }\n",
       "\n",
       "    .dataframe thead th {\n",
       "        text-align: right;\n",
       "    }\n",
       "</style>\n",
       "<table border=\"1\" class=\"dataframe\">\n",
       "  <thead>\n",
       "    <tr style=\"text-align: right;\">\n",
       "      <th></th>\n",
       "      <th>Unnamed: 0</th>\n",
       "      <th>Message-ID</th>\n",
       "      <th>Date</th>\n",
       "      <th>From</th>\n",
       "      <th>To</th>\n",
       "      <th>Subject</th>\n",
       "      <th>X-From</th>\n",
       "      <th>X-To</th>\n",
       "      <th>X-cc</th>\n",
       "      <th>X-bcc</th>\n",
       "      <th>...</th>\n",
       "      <th>Cat_10_level_1</th>\n",
       "      <th>Cat_10_level_2</th>\n",
       "      <th>Cat_10_weight</th>\n",
       "      <th>Cat_11_level_1</th>\n",
       "      <th>Cat_11_level_2</th>\n",
       "      <th>Cat_11_weight</th>\n",
       "      <th>Cat_12_level_1</th>\n",
       "      <th>Cat_12_level_2</th>\n",
       "      <th>Cat_12_weight</th>\n",
       "      <th>labeled</th>\n",
       "    </tr>\n",
       "  </thead>\n",
       "  <tbody>\n",
       "    <tr>\n",
       "      <th>0</th>\n",
       "      <td>100000</td>\n",
       "      <td>&lt;3013862.1075854174317.JavaMail.evans@thyme&gt;</td>\n",
       "      <td>1999-12-20 13:43:00</td>\n",
       "      <td>frozenset({'daren.farmer@enron.com'})</td>\n",
       "      <td>frozenset({'julie.meyers@enron.com'})</td>\n",
       "      <td>Evergreen deals</td>\n",
       "      <td>Daren J Farmer</td>\n",
       "      <td>Julie Meyers</td>\n",
       "      <td>NaN</td>\n",
       "      <td>NaN</td>\n",
       "      <td>...</td>\n",
       "      <td>NaN</td>\n",
       "      <td>NaN</td>\n",
       "      <td>NaN</td>\n",
       "      <td>NaN</td>\n",
       "      <td>NaN</td>\n",
       "      <td>NaN</td>\n",
       "      <td>NaN</td>\n",
       "      <td>NaN</td>\n",
       "      <td>NaN</td>\n",
       "      <td>False</td>\n",
       "    </tr>\n",
       "    <tr>\n",
       "      <th>1</th>\n",
       "      <td>100001</td>\n",
       "      <td>&lt;20344708.1075854174339.JavaMail.evans@thyme&gt;</td>\n",
       "      <td>1999-12-20 12:10:00</td>\n",
       "      <td>frozenset({'daren.farmer@enron.com'})</td>\n",
       "      <td>frozenset({'brenda.herod@enron.com'})</td>\n",
       "      <td>Re: purge of old Contract_Event_Status</td>\n",
       "      <td>Daren J Farmer</td>\n",
       "      <td>Brenda F Herod</td>\n",
       "      <td>Mary M Smith, Pat Clynes</td>\n",
       "      <td>NaN</td>\n",
       "      <td>...</td>\n",
       "      <td>NaN</td>\n",
       "      <td>NaN</td>\n",
       "      <td>NaN</td>\n",
       "      <td>NaN</td>\n",
       "      <td>NaN</td>\n",
       "      <td>NaN</td>\n",
       "      <td>NaN</td>\n",
       "      <td>NaN</td>\n",
       "      <td>NaN</td>\n",
       "      <td>False</td>\n",
       "    </tr>\n",
       "    <tr>\n",
       "      <th>2</th>\n",
       "      <td>100002</td>\n",
       "      <td>&lt;13857515.1075854174362.JavaMail.evans@thyme&gt;</td>\n",
       "      <td>1999-12-20 11:37:00</td>\n",
       "      <td>frozenset({'daren.farmer@enron.com'})</td>\n",
       "      <td>frozenset({'kenneth.seaman@enron.com'})</td>\n",
       "      <td>January Production Estimate</td>\n",
       "      <td>Daren J Farmer</td>\n",
       "      <td>Kenneth Seaman</td>\n",
       "      <td>NaN</td>\n",
       "      <td>NaN</td>\n",
       "      <td>...</td>\n",
       "      <td>NaN</td>\n",
       "      <td>NaN</td>\n",
       "      <td>NaN</td>\n",
       "      <td>NaN</td>\n",
       "      <td>NaN</td>\n",
       "      <td>NaN</td>\n",
       "      <td>NaN</td>\n",
       "      <td>NaN</td>\n",
       "      <td>NaN</td>\n",
       "      <td>False</td>\n",
       "    </tr>\n",
       "    <tr>\n",
       "      <th>3</th>\n",
       "      <td>100003</td>\n",
       "      <td>&lt;1946403.1075854174384.JavaMail.evans@thyme&gt;</td>\n",
       "      <td>1999-12-10 16:36:00</td>\n",
       "      <td>frozenset({'daren.farmer@enron.com'})</td>\n",
       "      <td>frozenset({'kimberly.vaughn@enron.com'})</td>\n",
       "      <td>HL&amp;P for 11/99</td>\n",
       "      <td>Daren J Farmer</td>\n",
       "      <td>Kimberly Vaughn</td>\n",
       "      <td>Anita Luong</td>\n",
       "      <td>NaN</td>\n",
       "      <td>...</td>\n",
       "      <td>NaN</td>\n",
       "      <td>NaN</td>\n",
       "      <td>NaN</td>\n",
       "      <td>NaN</td>\n",
       "      <td>NaN</td>\n",
       "      <td>NaN</td>\n",
       "      <td>NaN</td>\n",
       "      <td>NaN</td>\n",
       "      <td>NaN</td>\n",
       "      <td>False</td>\n",
       "    </tr>\n",
       "    <tr>\n",
       "      <th>4</th>\n",
       "      <td>100004</td>\n",
       "      <td>&lt;31181882.1075854174405.JavaMail.evans@thyme&gt;</td>\n",
       "      <td>1999-12-10 16:33:00</td>\n",
       "      <td>frozenset({'daren.farmer@enron.com'})</td>\n",
       "      <td>frozenset({'susan.trevino@enron.com'})</td>\n",
       "      <td>Re: Meter 5892 - UA4 1996 and 1997 Logistics I...</td>\n",
       "      <td>Daren J Farmer</td>\n",
       "      <td>Susan D Trevino</td>\n",
       "      <td>NaN</td>\n",
       "      <td>NaN</td>\n",
       "      <td>...</td>\n",
       "      <td>NaN</td>\n",
       "      <td>NaN</td>\n",
       "      <td>NaN</td>\n",
       "      <td>NaN</td>\n",
       "      <td>NaN</td>\n",
       "      <td>NaN</td>\n",
       "      <td>NaN</td>\n",
       "      <td>NaN</td>\n",
       "      <td>NaN</td>\n",
       "      <td>False</td>\n",
       "    </tr>\n",
       "  </tbody>\n",
       "</table>\n",
       "<p>5 rows × 52 columns</p>\n",
       "</div>"
      ],
      "text/plain": [
       "   Unnamed: 0                                     Message-ID  \\\n",
       "0      100000   <3013862.1075854174317.JavaMail.evans@thyme>   \n",
       "1      100001  <20344708.1075854174339.JavaMail.evans@thyme>   \n",
       "2      100002  <13857515.1075854174362.JavaMail.evans@thyme>   \n",
       "3      100003   <1946403.1075854174384.JavaMail.evans@thyme>   \n",
       "4      100004  <31181882.1075854174405.JavaMail.evans@thyme>   \n",
       "\n",
       "                  Date                                   From  \\\n",
       "0  1999-12-20 13:43:00  frozenset({'daren.farmer@enron.com'})   \n",
       "1  1999-12-20 12:10:00  frozenset({'daren.farmer@enron.com'})   \n",
       "2  1999-12-20 11:37:00  frozenset({'daren.farmer@enron.com'})   \n",
       "3  1999-12-10 16:36:00  frozenset({'daren.farmer@enron.com'})   \n",
       "4  1999-12-10 16:33:00  frozenset({'daren.farmer@enron.com'})   \n",
       "\n",
       "                                         To  \\\n",
       "0     frozenset({'julie.meyers@enron.com'})   \n",
       "1     frozenset({'brenda.herod@enron.com'})   \n",
       "2   frozenset({'kenneth.seaman@enron.com'})   \n",
       "3  frozenset({'kimberly.vaughn@enron.com'})   \n",
       "4    frozenset({'susan.trevino@enron.com'})   \n",
       "\n",
       "                                             Subject          X-From  \\\n",
       "0                                    Evergreen deals  Daren J Farmer   \n",
       "1             Re: purge of old Contract_Event_Status  Daren J Farmer   \n",
       "2                        January Production Estimate  Daren J Farmer   \n",
       "3                                     HL&P for 11/99  Daren J Farmer   \n",
       "4  Re: Meter 5892 - UA4 1996 and 1997 Logistics I...  Daren J Farmer   \n",
       "\n",
       "              X-To                      X-cc X-bcc  ... Cat_10_level_1  \\\n",
       "0     Julie Meyers                       NaN   NaN  ...            NaN   \n",
       "1   Brenda F Herod  Mary M Smith, Pat Clynes   NaN  ...            NaN   \n",
       "2   Kenneth Seaman                       NaN   NaN  ...            NaN   \n",
       "3  Kimberly Vaughn               Anita Luong   NaN  ...            NaN   \n",
       "4  Susan D Trevino                       NaN   NaN  ...            NaN   \n",
       "\n",
       "  Cat_10_level_2 Cat_10_weight Cat_11_level_1 Cat_11_level_2  Cat_11_weight  \\\n",
       "0            NaN           NaN            NaN            NaN            NaN   \n",
       "1            NaN           NaN            NaN            NaN            NaN   \n",
       "2            NaN           NaN            NaN            NaN            NaN   \n",
       "3            NaN           NaN            NaN            NaN            NaN   \n",
       "4            NaN           NaN            NaN            NaN            NaN   \n",
       "\n",
       "   Cat_12_level_1  Cat_12_level_2  Cat_12_weight  labeled  \n",
       "0             NaN             NaN            NaN    False  \n",
       "1             NaN             NaN            NaN    False  \n",
       "2             NaN             NaN            NaN    False  \n",
       "3             NaN             NaN            NaN    False  \n",
       "4             NaN             NaN            NaN    False  \n",
       "\n",
       "[5 rows x 52 columns]"
      ]
     },
     "execution_count": 2,
     "metadata": {},
     "output_type": "execute_result"
    }
   ],
   "source": [
    "emails = pd.read_csv(\"https://query.data.world/s/o3a54tz46d55ywn32d6wcgtgomlfnx\")\n",
    "emails.head()\n"
   ]
  },
  {
   "cell_type": "markdown",
   "metadata": {},
   "source": [
    "Details of the first email"
   ]
  },
  {
   "cell_type": "code",
   "execution_count": 3,
   "metadata": {},
   "outputs": [
    {
     "data": {
      "text/plain": [
       "Unnamed: 0                                                   100000\n",
       "Message-ID             <3013862.1075854174317.JavaMail.evans@thyme>\n",
       "Date                                            1999-12-20 13:43:00\n",
       "From                          frozenset({'daren.farmer@enron.com'})\n",
       "To                            frozenset({'julie.meyers@enron.com'})\n",
       "Subject                                             Evergreen deals\n",
       "X-From                                               Daren J Farmer\n",
       "X-To                                                   Julie Meyers\n",
       "X-cc                                                            NaN\n",
       "X-bcc                                                           NaN\n",
       "X-Folder            \\Darren_Farmer_Dec2000\\Notes Folders\\'sent mail\n",
       "X-Origin                                                   Farmer-D\n",
       "X-FileName                                              dfarmer.nsf\n",
       "content           Julie, I need to know if the following deals h...\n",
       "user                                                       farmer-d\n",
       "Cat_1_level_1                                                   NaN\n",
       "Cat_1_level_2                                                   NaN\n",
       "Cat_1_weight                                                    NaN\n",
       "Cat_2_level_1                                                   NaN\n",
       "Cat_2_level_2                                                   NaN\n",
       "Cat_2_weight                                                    NaN\n",
       "Cat_3_level_1                                                   NaN\n",
       "Cat_3_level_2                                                   NaN\n",
       "Cat_3_weight                                                    NaN\n",
       "Cat_4_level_1                                                   NaN\n",
       "Cat_4_level_2                                                   NaN\n",
       "Cat_4_weight                                                    NaN\n",
       "Cat_5_level_1                                                   NaN\n",
       "Cat_5_level_2                                                   NaN\n",
       "Cat_5_weight                                                    NaN\n",
       "Cat_6_level_1                                                   NaN\n",
       "Cat_6_level_2                                                   NaN\n",
       "Cat_6_weight                                                    NaN\n",
       "Cat_7_level_1                                                   NaN\n",
       "Cat_7_level_2                                                   NaN\n",
       "Cat_7_weight                                                    NaN\n",
       "Cat_8_level_1                                                   NaN\n",
       "Cat_8_level_2                                                   NaN\n",
       "Cat_8_weight                                                    NaN\n",
       "Cat_9_level_1                                                   NaN\n",
       "Cat_9_level_2                                                   NaN\n",
       "Cat_9_weight                                                    NaN\n",
       "Cat_10_level_1                                                  NaN\n",
       "Cat_10_level_2                                                  NaN\n",
       "Cat_10_weight                                                   NaN\n",
       "Cat_11_level_1                                                  NaN\n",
       "Cat_11_level_2                                                  NaN\n",
       "Cat_11_weight                                                   NaN\n",
       "Cat_12_level_1                                                  NaN\n",
       "Cat_12_level_2                                                  NaN\n",
       "Cat_12_weight                                                   NaN\n",
       "labeled                                                       False\n",
       "Name: 0, dtype: object"
      ]
     },
     "execution_count": 3,
     "metadata": {},
     "output_type": "execute_result"
    }
   ],
   "source": [
    "emails.loc[0]"
   ]
  },
  {
   "cell_type": "markdown",
   "metadata": {},
   "source": [
    "Extract few important columns/features"
   ]
  },
  {
   "cell_type": "code",
   "execution_count": 4,
   "metadata": {},
   "outputs": [
    {
     "data": {
      "text/html": [
       "<div>\n",
       "<style scoped>\n",
       "    .dataframe tbody tr th:only-of-type {\n",
       "        vertical-align: middle;\n",
       "    }\n",
       "\n",
       "    .dataframe tbody tr th {\n",
       "        vertical-align: top;\n",
       "    }\n",
       "\n",
       "    .dataframe thead th {\n",
       "        text-align: right;\n",
       "    }\n",
       "</style>\n",
       "<table border=\"1\" class=\"dataframe\">\n",
       "  <thead>\n",
       "    <tr style=\"text-align: right;\">\n",
       "      <th></th>\n",
       "      <th>Message-ID</th>\n",
       "      <th>Date</th>\n",
       "      <th>From</th>\n",
       "      <th>To</th>\n",
       "      <th>Subject</th>\n",
       "      <th>X-From</th>\n",
       "      <th>X-To</th>\n",
       "      <th>user</th>\n",
       "    </tr>\n",
       "  </thead>\n",
       "  <tbody>\n",
       "    <tr>\n",
       "      <th>0</th>\n",
       "      <td>&lt;3013862.1075854174317.JavaMail.evans@thyme&gt;</td>\n",
       "      <td>1999-12-20 13:43:00</td>\n",
       "      <td>frozenset({'daren.farmer@enron.com'})</td>\n",
       "      <td>frozenset({'julie.meyers@enron.com'})</td>\n",
       "      <td>Evergreen deals</td>\n",
       "      <td>Daren J Farmer</td>\n",
       "      <td>Julie Meyers</td>\n",
       "      <td>farmer-d</td>\n",
       "    </tr>\n",
       "    <tr>\n",
       "      <th>1</th>\n",
       "      <td>&lt;20344708.1075854174339.JavaMail.evans@thyme&gt;</td>\n",
       "      <td>1999-12-20 12:10:00</td>\n",
       "      <td>frozenset({'daren.farmer@enron.com'})</td>\n",
       "      <td>frozenset({'brenda.herod@enron.com'})</td>\n",
       "      <td>Re: purge of old Contract_Event_Status</td>\n",
       "      <td>Daren J Farmer</td>\n",
       "      <td>Brenda F Herod</td>\n",
       "      <td>farmer-d</td>\n",
       "    </tr>\n",
       "    <tr>\n",
       "      <th>2</th>\n",
       "      <td>&lt;13857515.1075854174362.JavaMail.evans@thyme&gt;</td>\n",
       "      <td>1999-12-20 11:37:00</td>\n",
       "      <td>frozenset({'daren.farmer@enron.com'})</td>\n",
       "      <td>frozenset({'kenneth.seaman@enron.com'})</td>\n",
       "      <td>January Production Estimate</td>\n",
       "      <td>Daren J Farmer</td>\n",
       "      <td>Kenneth Seaman</td>\n",
       "      <td>farmer-d</td>\n",
       "    </tr>\n",
       "    <tr>\n",
       "      <th>3</th>\n",
       "      <td>&lt;1946403.1075854174384.JavaMail.evans@thyme&gt;</td>\n",
       "      <td>1999-12-10 16:36:00</td>\n",
       "      <td>frozenset({'daren.farmer@enron.com'})</td>\n",
       "      <td>frozenset({'kimberly.vaughn@enron.com'})</td>\n",
       "      <td>HL&amp;P for 11/99</td>\n",
       "      <td>Daren J Farmer</td>\n",
       "      <td>Kimberly Vaughn</td>\n",
       "      <td>farmer-d</td>\n",
       "    </tr>\n",
       "    <tr>\n",
       "      <th>4</th>\n",
       "      <td>&lt;31181882.1075854174405.JavaMail.evans@thyme&gt;</td>\n",
       "      <td>1999-12-10 16:33:00</td>\n",
       "      <td>frozenset({'daren.farmer@enron.com'})</td>\n",
       "      <td>frozenset({'susan.trevino@enron.com'})</td>\n",
       "      <td>Re: Meter 5892 - UA4 1996 and 1997 Logistics I...</td>\n",
       "      <td>Daren J Farmer</td>\n",
       "      <td>Susan D Trevino</td>\n",
       "      <td>farmer-d</td>\n",
       "    </tr>\n",
       "  </tbody>\n",
       "</table>\n",
       "</div>"
      ],
      "text/plain": [
       "                                      Message-ID                 Date  \\\n",
       "0   <3013862.1075854174317.JavaMail.evans@thyme>  1999-12-20 13:43:00   \n",
       "1  <20344708.1075854174339.JavaMail.evans@thyme>  1999-12-20 12:10:00   \n",
       "2  <13857515.1075854174362.JavaMail.evans@thyme>  1999-12-20 11:37:00   \n",
       "3   <1946403.1075854174384.JavaMail.evans@thyme>  1999-12-10 16:36:00   \n",
       "4  <31181882.1075854174405.JavaMail.evans@thyme>  1999-12-10 16:33:00   \n",
       "\n",
       "                                    From  \\\n",
       "0  frozenset({'daren.farmer@enron.com'})   \n",
       "1  frozenset({'daren.farmer@enron.com'})   \n",
       "2  frozenset({'daren.farmer@enron.com'})   \n",
       "3  frozenset({'daren.farmer@enron.com'})   \n",
       "4  frozenset({'daren.farmer@enron.com'})   \n",
       "\n",
       "                                         To  \\\n",
       "0     frozenset({'julie.meyers@enron.com'})   \n",
       "1     frozenset({'brenda.herod@enron.com'})   \n",
       "2   frozenset({'kenneth.seaman@enron.com'})   \n",
       "3  frozenset({'kimberly.vaughn@enron.com'})   \n",
       "4    frozenset({'susan.trevino@enron.com'})   \n",
       "\n",
       "                                             Subject          X-From  \\\n",
       "0                                    Evergreen deals  Daren J Farmer   \n",
       "1             Re: purge of old Contract_Event_Status  Daren J Farmer   \n",
       "2                        January Production Estimate  Daren J Farmer   \n",
       "3                                     HL&P for 11/99  Daren J Farmer   \n",
       "4  Re: Meter 5892 - UA4 1996 and 1997 Logistics I...  Daren J Farmer   \n",
       "\n",
       "              X-To      user  \n",
       "0     Julie Meyers  farmer-d  \n",
       "1   Brenda F Herod  farmer-d  \n",
       "2   Kenneth Seaman  farmer-d  \n",
       "3  Kimberly Vaughn  farmer-d  \n",
       "4  Susan D Trevino  farmer-d  "
      ]
     },
     "execution_count": 4,
     "metadata": {},
     "output_type": "execute_result"
    }
   ],
   "source": [
    "df = emails[['Message-ID','Date','From','To','Subject','X-From','X-To','user']]\n",
    "df.head()"
   ]
  },
  {
   "cell_type": "markdown",
   "metadata": {},
   "source": [
    "Check for null values"
   ]
  },
  {
   "cell_type": "code",
   "execution_count": 5,
   "metadata": {},
   "outputs": [
    {
     "data": {
      "text/plain": [
       "Message-ID       0\n",
       "Date             0\n",
       "From             0\n",
       "To            3039\n",
       "Subject       1924\n",
       "X-From           3\n",
       "X-To          1113\n",
       "user             0\n",
       "dtype: int64"
      ]
     },
     "execution_count": 5,
     "metadata": {},
     "output_type": "execute_result"
    }
   ],
   "source": [
    "df.isnull().sum()"
   ]
  },
  {
   "cell_type": "code",
   "execution_count": 6,
   "metadata": {},
   "outputs": [
    {
     "data": {
      "text/plain": [
       "array([\"frozenset({'julie.meyers@enron.com'})\",\n",
       "       \"frozenset({'brenda.herod@enron.com'})\",\n",
       "       \"frozenset({'kenneth.seaman@enron.com'})\", ...,\n",
       "       \"frozenset({'ludkam@aol.com', 'vincek@palm.net'})\",\n",
       "       \"frozenset({'vincek@palm.net'})\",\n",
       "       \"frozenset({'giuseppe.paleologo@enron.com'})\"], dtype=object)"
      ]
     },
     "execution_count": 6,
     "metadata": {},
     "output_type": "execute_result"
    }
   ],
   "source": [
    "df['To'].unique() "
   ]
  },
  {
   "cell_type": "code",
   "execution_count": 7,
   "metadata": {},
   "outputs": [
    {
     "data": {
      "text/plain": [
       "<bound method Series.unique of 0        1999-12-20 13:43:00\n",
       "1        1999-12-20 12:10:00\n",
       "2        1999-12-20 11:37:00\n",
       "3        1999-12-10 16:36:00\n",
       "4        1999-12-10 16:33:00\n",
       "                ...         \n",
       "99995    2000-09-15 16:07:00\n",
       "99996    2000-09-15 16:01:00\n",
       "99997    2000-09-15 14:18:00\n",
       "99998    2000-09-15 14:13:00\n",
       "99999    2000-09-15 11:16:00\n",
       "Name: Date, Length: 100000, dtype: object>"
      ]
     },
     "execution_count": 7,
     "metadata": {},
     "output_type": "execute_result"
    }
   ],
   "source": [
    "df['Date'].unique"
   ]
  },
  {
   "cell_type": "code",
   "execution_count": 8,
   "metadata": {},
   "outputs": [
    {
     "data": {
      "text/plain": [
       "array([\"frozenset({'daren.farmer@enron.com'})\",\n",
       "       \"frozenset({'arsystem@mailman.enron.com'})\",\n",
       "       \"frozenset({'megan.parker@enron.com'})\", ...,\n",
       "       \"frozenset({'amy.heffernan@enron.com'})\",\n",
       "       \"frozenset({'ecthou_gt2@enron.com'})\",\n",
       "       \"frozenset({'vince.kaminski@enron.com'})\"], dtype=object)"
      ]
     },
     "execution_count": 8,
     "metadata": {},
     "output_type": "execute_result"
    }
   ],
   "source": [
    "df['From'].unique()"
   ]
  },
  {
   "cell_type": "code",
   "execution_count": 9,
   "metadata": {},
   "outputs": [
    {
     "data": {
      "text/plain": [
       "array(['farmer-d', 'fischer-m', 'forney-j', 'fossum-d', 'gang-l', 'gay-r',\n",
       "       'geaccone-t', 'germany-c', 'gilbertsmith-d', 'giron-d',\n",
       "       'griffith-j', 'grigsby-m', 'guzman-m', 'haedicke-m', 'hain-m',\n",
       "       'harris-s', 'hayslett-r', 'heard-m', 'hendrickson-s',\n",
       "       'hernandez-j', 'hodge-j', 'holst-k', 'horton-s', 'hyatt-k',\n",
       "       'hyvl-d', 'jones-t', 'kaminski-v'], dtype=object)"
      ]
     },
     "execution_count": 9,
     "metadata": {},
     "output_type": "execute_result"
    }
   ],
   "source": [
    "df['user'].unique()"
   ]
  },
  {
   "cell_type": "code",
   "execution_count": 10,
   "metadata": {},
   "outputs": [
    {
     "data": {
      "text/plain": [
       "count      100000\n",
       "unique         27\n",
       "top       jones-t\n",
       "freq        19950\n",
       "Name: user, dtype: object"
      ]
     },
     "execution_count": 10,
     "metadata": {},
     "output_type": "execute_result"
    }
   ],
   "source": [
    "df['user'].describe() #Description of users"
   ]
  },
  {
   "cell_type": "code",
   "execution_count": 16,
   "metadata": {},
   "outputs": [
    {
     "data": {
      "text/plain": [
       "RE:                                               686\n",
       "Re:                                               665\n",
       "Schedule Crawler: HourAhead Failure <CODESITE>    234\n",
       "FW:                                               162\n",
       "Hey                                               162\n",
       "                                                 ... \n",
       "FW: another one - sale of Energoville               1\n",
       "Kathleen Ann Storage Field                          1\n",
       "Re: Flight                                          1\n",
       "KeyEx stuff w/ Team                                 1\n",
       "RE: Astros game                                     1\n",
       "Name: Subject, Length: 35707, dtype: int64"
      ]
     },
     "execution_count": 16,
     "metadata": {},
     "output_type": "execute_result"
    }
   ],
   "source": [
    "df['Subject'].value_counts() #Number of emails/rows per value of the subject"
   ]
  },
  {
   "cell_type": "code",
   "execution_count": 23,
   "metadata": {},
   "outputs": [
    {
     "data": {
      "text/plain": [
       "jones-t           19950\n",
       "farmer-d          12454\n",
       "germany-c         12436\n",
       "guzman-m           6054\n",
       "haedicke-m         5246\n",
       "fossum-d           4796\n",
       "giron-d            4220\n",
       "hain-m             3820\n",
       "hernandez-j        3265\n",
       "hyvl-d             3210\n",
       "griffith-j         2973\n",
       "hayslett-r         2554\n",
       "horton-s           2470\n",
       "grigsby-m          2237\n",
       "hyatt-k            1794\n",
       "hodge-j            1661\n",
       "heard-m            1623\n",
       "geaccone-t         1592\n",
       "fischer-m          1498\n",
       "gay-r              1415\n",
       "kaminski-v         1105\n",
       "forney-j            729\n",
       "hendrickson-s       719\n",
       "gang-l              590\n",
       "gilbertsmith-d      578\n",
       "harris-s            548\n",
       "holst-k             463\n",
       "Name: user, dtype: int64"
      ]
     },
     "execution_count": 23,
     "metadata": {},
     "output_type": "execute_result"
    }
   ],
   "source": [
    "df['user'].value_counts() #Number of eamils/rows per different users"
   ]
  },
  {
   "cell_type": "markdown",
   "metadata": {},
   "source": [
    "Count Plot graph for users"
   ]
  },
  {
   "cell_type": "code",
   "execution_count": 9,
   "metadata": {},
   "outputs": [
    {
     "name": "stderr",
     "output_type": "stream",
     "text": [
      "/opt/anaconda3/lib/python3.8/site-packages/seaborn/_decorators.py:36: FutureWarning: Pass the following variable as a keyword arg: x. From version 0.12, the only valid positional argument will be `data`, and passing other arguments without an explicit keyword will result in an error or misinterpretation.\n",
      "  warnings.warn(\n"
     ]
    },
    {
     "data": {
      "text/plain": [
       "Text(0.5, 1.0, 'users_count')"
      ]
     },
     "execution_count": 9,
     "metadata": {},
     "output_type": "execute_result"
    },
    {
     "data": {
      "image/png": "[encoded data removed]",
      "text/plain": [
       "<Figure size 2304x864 with 1 Axes>"
      ]
     },
     "metadata": {
      "needs_background": "light"
     },
     "output_type": "display_data"
    }
   ],
   "source": [
    "import matplotlib.pyplot as plt\n",
    "import seaborn as sns\n",
    "plt.figure(figsize=(32,12))\n",
    "sns.countplot(df.user)\n",
    "plt.xlabel('Label')\n",
    "plt.title('users_count')"
   ]
  },
  {
   "cell_type": "code",
   "execution_count": null,
   "metadata": {},
   "outputs": [],
   "source": []
  }
 ],
 "metadata": {
  "kernelspec": {
   "display_name": "Python 3",
   "language": "python",
   "name": "python3"
  },
  "language_info": {
   "codemirror_mode": {
    "name": "ipython",
    "version": 3
   },
   "file_extension": ".py",
   "mimetype": "text/x-python",
   "name": "python",
   "nbconvert_exporter": "python",
   "pygments_lexer": "ipython3",
   "version": "3.8.5"
  }
 },
 "nbformat": 4,
 "nbformat_minor": 4
}
